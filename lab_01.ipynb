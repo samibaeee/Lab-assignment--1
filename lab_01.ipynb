{
  "nbformat": 4,
  "nbformat_minor": 0,
  "metadata": {
    "colab": {
      "provenance": [],
      "toc_visible": true
    },
    "kernelspec": {
      "name": "python3",
      "display_name": "Python 3"
    },
    "language_info": {
      "name": "python"
    }
  },
  "cells": [
    {
      "cell_type": "markdown",
      "source": [
        "Task 9"
      ],
      "metadata": {
        "id": "Fp2YBM6TVY13"
      }
    },
    {
      "cell_type": "code",
      "source": [],
      "metadata": {
        "id": "qrt8eC89U4Vj"
      },
      "execution_count": null,
      "outputs": []
    },
    {
      "cell_type": "code",
      "source": [
        "M=input(\"Write anything:\")\n",
        "N=input(\"Write anything:\")\n",
        "sum=N+Mw\n",
        "print(sum)"
      ],
      "metadata": {
        "colab": {
          "base_uri": "https://localhost:8080/"
        },
        "id": "3OcXrcn1WFo3",
        "outputId": "c22edd2a-d909-4b33-b9c2-397b5d5c7f62"
      },
      "execution_count": null,
      "outputs": [
        {
          "output_type": "stream",
          "name": "stdout",
          "text": [
            "Write anything:2\n",
            "Write anything:5\n",
            "52\n"
          ]
        }
      ]
    },
    {
      "cell_type": "markdown",
      "source": [
        "Task 2"
      ],
      "metadata": {
        "id": "ir_gfFFAar8B"
      }
    },
    {
      "cell_type": "code",
      "execution_count": null,
      "metadata": {
        "colab": {
          "base_uri": "https://localhost:8080/"
        },
        "id": "ARApIAXhE0St",
        "outputId": "100925fb-e98e-4b75-c4e7-c693bb1a7e42"
      },
      "outputs": [
        {
          "output_type": "stream",
          "name": "stdout",
          "text": [
            "110\n"
          ]
        }
      ],
      "source": [
        "sum=54+56\n",
        "print(sum)"
      ]
    },
    {
      "cell_type": "markdown",
      "source": [
        "Task 8"
      ],
      "metadata": {
        "id": "Xvfq_yXcVhRP"
      }
    },
    {
      "cell_type": "code",
      "source": [
        "A=int(input(\"Please enter your number:\"))\n",
        "print(A%2==0)"
      ],
      "metadata": {
        "colab": {
          "base_uri": "https://localhost:8080/"
        },
        "id": "9Bv2ywQcYYgB",
        "outputId": "e5d9edce-67bf-4439-dadb-2bfd7c768deb"
      },
      "execution_count": null,
      "outputs": [
        {
          "output_type": "stream",
          "name": "stdout",
          "text": [
            "Please enter your number:7\n",
            "False\n"
          ]
        }
      ]
    },
    {
      "cell_type": "markdown",
      "source": [
        "Task 8"
      ],
      "metadata": {
        "id": "mcS3DBe0a_77"
      }
    },
    {
      "cell_type": "code",
      "source": [
        "chocolate=int(input(\"Enter amount of chocolate:\"))\n",
        "division=chocolate//3\n",
        "reminder=chocolate%3\n",
        "print(\"Each friend will receive {} chocolates\".format(division))\n",
        "print(\"The number of remaining chocolates is {}\".format(reminder))"
      ],
      "metadata": {
        "colab": {
          "base_uri": "https://localhost:8080/"
        },
        "id": "7E1RQBuKRhZR",
        "outputId": "69ccfd8d-9699-4901-a220-7ce7fb9865e1"
      },
      "execution_count": null,
      "outputs": [
        {
          "output_type": "stream",
          "name": "stdout",
          "text": [
            "Enter amount of chocolate:50\n",
            "Each friend will receive 16 chocolates\n",
            "The number of remaining chocolates is 2\n"
          ]
        }
      ]
    },
    {
      "cell_type": "markdown",
      "source": [
        "Task 5"
      ],
      "metadata": {
        "id": "Rw7kpY6gbabK"
      }
    },
    {
      "cell_type": "code",
      "source": [
        "M=int(input(\"Please enter your number: \"))\n",
        "N=int(input(\"Please enter your number: \"))\n",
        "OUtput=M**N\n",
        "print(\"{}^{}:{}\".format(M,N,OUtput))\n"
      ],
      "metadata": {
        "colab": {
          "base_uri": "https://localhost:8080/"
        },
        "id": "nB70ejeKFYW8",
        "outputId": "a2d3aedf-01da-4501-ccc0-b435446fa294"
      },
      "execution_count": null,
      "outputs": [
        {
          "output_type": "stream",
          "name": "stdout",
          "text": [
            "Please enter your number: 2\n",
            "Please enter your number: 3\n",
            "2^3:8\n"
          ]
        }
      ]
    },
    {
      "cell_type": "code",
      "source": [
        "A=int(input(\"Enter number A: \"))\n",
        "B=int(input(\"Enter number B: \"))\n",
        "C=int(input(\"Enter number c: \"))\n",
        "D=float(input(\"Enter number D: \"))\n",
        "output=A**C+B*A-D/3\n",
        "print(int(output))"
      ],
      "metadata": {
        "colab": {
          "base_uri": "https://localhost:8080/"
        },
        "id": "i6Y-unoMKd-v",
        "outputId": "b74d7c7f-ac5a-4472-99ff-5d840155d080"
      },
      "execution_count": null,
      "outputs": [
        {
          "output_type": "stream",
          "name": "stdout",
          "text": [
            "Enter number A: 2\n",
            "Enter number B: 6\n",
            "Enter number c: 8\n",
            "Enter number D: 1.3\n",
            "267\n"
          ]
        }
      ]
    },
    {
      "cell_type": "code",
      "source": [
        "print(\"hello world\")"
      ],
      "metadata": {
        "colab": {
          "base_uri": "https://localhost:8080/"
        },
        "id": "IWXo4ZYAMaAR",
        "outputId": "bd16ccee-90c5-4f67-edce-6d7aa0c0e9e3"
      },
      "execution_count": null,
      "outputs": [
        {
          "output_type": "stream",
          "name": "stdout",
          "text": [
            "hello world\n"
          ]
        }
      ]
    },
    {
      "cell_type": "code",
      "source": [
        "name=\"John\"\n",
        "print(\"Your name is {}\".format(name))"
      ],
      "metadata": {
        "colab": {
          "base_uri": "https://localhost:8080/"
        },
        "id": "lGsCTEw0Mhvx",
        "outputId": "44ae5d11-6e4d-4b3d-d8c5-02e0755b7243"
      },
      "execution_count": null,
      "outputs": [
        {
          "output_type": "stream",
          "name": "stdout",
          "text": [
            "Your name is John\n"
          ]
        }
      ]
    },
    {
      "cell_type": "code",
      "source": [
        "weight=int(input(\"please enter weight: \"))\n",
        "output= weight-(weight%4)\n",
        "print(output)"
      ],
      "metadata": {
        "colab": {
          "base_uri": "https://localhost:8080/"
        },
        "id": "tZARINcYNkeA",
        "outputId": "718c1db5-4512-442f-cc23-747829908dd6"
      },
      "execution_count": null,
      "outputs": [
        {
          "output_type": "stream",
          "name": "stdout",
          "text": [
            "please enter weight: 9\n",
            "8\n"
          ]
        }
      ]
    },
    {
      "cell_type": "code",
      "source": [
        "A=\"Fall\"\n",
        "B=\"2022\"\n",
        "print(A)\n",
        "print(B)"
      ],
      "metadata": {
        "colab": {
          "base_uri": "https://localhost:8080/"
        },
        "id": "RQRRmQArOmVM",
        "outputId": "5be1cb16-0983-469d-a1e3-edcab4332445"
      },
      "execution_count": null,
      "outputs": [
        {
          "output_type": "stream",
          "name": "stdout",
          "text": [
            "Fall\n",
            "2022\n"
          ]
        }
      ]
    },
    {
      "cell_type": "code",
      "source": [],
      "metadata": {
        "id": "5RnHpzYnKUbi"
      },
      "execution_count": null,
      "outputs": []
    }
  ]
}